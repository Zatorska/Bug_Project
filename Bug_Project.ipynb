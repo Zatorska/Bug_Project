{
 "cells": [
  {
   "cell_type": "markdown",
   "metadata": {},
   "source": [
    "# Step 1 - _Photos_\n",
    "\n",
    "I should create a database of photos which model will use to train and learn. \n",
    "\n",
    "What conditions should this database meet?\n",
    "* **the more photos, the better model** - model which has more data to learn gives better results. Simple, but that's the way it is. \n",
    "* **the more varried photos, the better model** - if model is learning using only simple photos (in this project it would be shot of caterpillar on a white background), it will have a problem to categorize more complicated one (e.g. photo with a colorfull caterpillar on a colorfull flower). So, what variations do we want? All of them!\n",
    "    * with different backgrounds\n",
    "    * from different perspectives\n",
    "    * in different positions\n",
    "    * in different close-ups\n",
    "    * with one and more objects\n",
    "    * black and white or color photos\n",
    "    * and so on..."
   ]
  },
  {
   "cell_type": "markdown",
   "metadata": {},
   "source": [
    "How should we mark our photos? There are few methods:"
   ]
  }
 ],
 "metadata": {
  "kernelspec": {
   "display_name": "Python 3",
   "language": "python",
   "name": "python3"
  },
  "language_info": {
   "codemirror_mode": {
    "name": "ipython",
    "version": 3
   },
   "file_extension": ".py",
   "mimetype": "text/x-python",
   "name": "python",
   "nbconvert_exporter": "python",
   "pygments_lexer": "ipython3",
   "version": "3.7.3"
  }
 },
 "nbformat": 4,
 "nbformat_minor": 2
}
